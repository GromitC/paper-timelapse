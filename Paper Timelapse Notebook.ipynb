{
 "cells": [
  {
   "cell_type": "code",
   "execution_count": null,
   "metadata": {},
   "outputs": [],
   "source": [
    "import subprocess\n",
    "import shutil\n",
    "import os\n",
    "from pdf2image import convert_from_path\n",
    "import math\n",
    "from PIL import Image\n",
    "import moviepy.video.io.ImageSequenceClip\n",
    "from git import Repo"
   ]
  },
  {
   "cell_type": "markdown",
   "metadata": {},
   "source": [
    "## 1. Specifying the paths"
   ]
  },
  {
   "cell_type": "code",
   "execution_count": 37,
   "metadata": {},
   "outputs": [],
   "source": [
    "filepath = '/Users/gromit/topoXML/vgtc_journal_latex/'\n",
    "gitpath = '/Users/gromit/topoXML/'\n",
    "main_tex = 'main'\n",
    "total_duration=52 # duration of the video\n",
    "n_cols = 6 # number of pages in one row\n",
    "n_rows = 2 # number of rows"
   ]
  },
  {
   "cell_type": "markdown",
   "metadata": {},
   "source": [
    "## 2. Fetch all the commits in master branch"
   ]
  },
  {
   "cell_type": "code",
   "execution_count": null,
   "metadata": {},
   "outputs": [],
   "source": [
    "current_path = os.path.abspath(os.getcwd())\n",
    "\n",
    "if not os.path.exists('intermediate'):\n",
    "    os.mkdir('intermediate')\n",
    "else:\n",
    "    shutil.rmtree('{}/intermediate'.format(current_path))\n",
    "    os.mkdir('intermediate')\n",
    "    \n",
    "repo = Repo(gitpath)\n",
    "\n",
    "commits = repo.iter_commits('master')\n",
    "\n",
    "commit_ids = []\n",
    "for commit in commits:\n",
    "    commit_ids.append(commit.hexsha)\n",
    "commit_ids = commit_ids[::-1]"
   ]
  },
  {
   "cell_type": "markdown",
   "metadata": {},
   "source": [
    "## 3. Generating Images per Commits - May take a long time!"
   ]
  },
  {
   "cell_type": "code",
   "execution_count": null,
   "metadata": {},
   "outputs": [],
   "source": [
    "for order,c in enumerate(commit_ids):\n",
    "    os.chdir(gitpath)\n",
    "    subprocess.check_call(['git', 'checkout', c])\n",
    "    \n",
    "    os.chdir(filepath)\n",
    "    try:\n",
    "        subprocess.check_call(['pdflatex', '{}.tex'.format(main_tex)])\n",
    "        subprocess.check_call(['bibtex', '{}'.format(main_tex)])\n",
    "        subprocess.check_call(['pdflatex', '{}.tex'.format(main_tex)])\n",
    "        subprocess.check_call(['pdflatex', '{}.tex'.format(main_tex)])\n",
    "    except:\n",
    "        continue\n",
    "\n",
    "    try:\n",
    "        shutil.move('{}{}.pdf'.format(filepath,main_tex),current_path)\n",
    "    except:\n",
    "        os.remove('{}/{}.pdf'.format(current_path,main_tex))\n",
    "        shutil.move('{}{}.pdf'.format(filepath,main_tex),current_path)\n",
    "    \n",
    "    images = convert_from_path('{}/{}.pdf'.format(current_path,main_tex))\n",
    "\n",
    "    width, height = images[0].size\n",
    "\n",
    "    stiched_image = Image.new(\"RGB\", (n_cols*width, height*n_rows))\n",
    "\n",
    "    for i, img in enumerate(images): \n",
    "        x = (i % n_cols) * width\n",
    "        if i >= n_cols:\n",
    "            y = height\n",
    "        else:\n",
    "            y = 0\n",
    "        stiched_image.paste(img, (x , y, x + width , y + height))\n",
    "\n",
    "    width, height = stiched_image.size\n",
    "    width = int(width/2)\n",
    "    height = int(height/2)\n",
    "    stiched_image = stiched_image.resize((width,height), Image.ANTIALIAS)\n",
    "    stiched_image.save('{}/intermediate/{}.png'.format(current_path,order), 'PNG')"
   ]
  },
  {
   "cell_type": "markdown",
   "metadata": {},
   "source": [
    "## 4. Make the video from the images, done!"
   ]
  },
  {
   "cell_type": "code",
   "execution_count": 38,
   "metadata": {},
   "outputs": [
    {
     "name": "stderr",
     "output_type": "stream",
     "text": [
      "t:   0%|          | 0/62 [00:00<?, ?it/s, now=None]"
     ]
    },
    {
     "name": "stdout",
     "output_type": "stream",
     "text": [
      "Moviepy - Building video /Users/gromit/paper_stitch/video.mp4.\n",
      "Moviepy - Writing video /Users/gromit/paper_stitch/video.mp4\n",
      "\n"
     ]
    },
    {
     "name": "stderr",
     "output_type": "stream",
     "text": [
      "                                                            \r"
     ]
    },
    {
     "name": "stdout",
     "output_type": "stream",
     "text": [
      "Moviepy - Done !\n",
      "Moviepy - video ready /Users/gromit/paper_stitch/video.mp4\n"
     ]
    }
   ],
   "source": [
    "image_folder='{}/intermediate'.format(current_path)\n",
    "\n",
    "image_files = [img for img in os.listdir(image_folder) if img.endswith(\".png\")]\n",
    "image_files.sort(key=lambda f: int(f.split('.')[0]))\n",
    "image_files = ['{}/{}'.format(image_folder,img) for img in image_files]\n",
    "clip = moviepy.video.io.ImageSequenceClip.ImageSequenceClip(image_files, fps=len(image_files) / total_duration)\n",
    "clip.write_videofile('{}/video.mp4'.format(current_path))"
   ]
  },
  {
   "cell_type": "code",
   "execution_count": null,
   "metadata": {},
   "outputs": [],
   "source": []
  }
 ],
 "metadata": {
  "kernelspec": {
   "display_name": "Python 3",
   "language": "python",
   "name": "python3"
  },
  "language_info": {
   "codemirror_mode": {
    "name": "ipython",
    "version": 3
   },
   "file_extension": ".py",
   "mimetype": "text/x-python",
   "name": "python",
   "nbconvert_exporter": "python",
   "pygments_lexer": "ipython3",
   "version": "3.7.4"
  }
 },
 "nbformat": 4,
 "nbformat_minor": 4
}
